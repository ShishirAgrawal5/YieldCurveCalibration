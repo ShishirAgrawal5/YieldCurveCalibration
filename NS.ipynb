{
 "cells": [
  {
   "cell_type": "markdown",
   "metadata": {},
   "source": [
    "# Fixed Income Final Project"
   ]
  },
  {
   "cell_type": "code",
   "execution_count": 2,
   "metadata": {},
   "outputs": [],
   "source": [
    "import pandas as pd\n",
    "import numpy as np\n",
    "import os\n",
    "import scipy.optimize as optimize\n",
    "from sklearn import linear_model\n",
    "import math\n",
    "\n",
    "#NOTEBOOK_ROOT = \"~/Desktop/Fixed Income Project\"\n",
    "#UK_PATH = os.path.join( NOTEBOOK_ROOT, \"UK_data\")\n",
    "\n",
    "Day1_data = pd.read_csv(\"FilePath.csv\")"
   ]
  },
  {
   "cell_type": "markdown",
   "metadata": {},
   "source": [
    "## Data Preparation"
   ]
  },
  {
   "cell_type": "code",
   "execution_count": 2,
   "metadata": {},
   "outputs": [],
   "source": [
    "# Experiment one day data\n",
    "data = Day1_data"
   ]
  },
  {
   "cell_type": "code",
   "execution_count": 3,
   "metadata": {},
   "outputs": [
    {
     "data": {
      "text/html": [
       "<div>\n",
       "<style scoped>\n",
       "    .dataframe tbody tr th:only-of-type {\n",
       "        vertical-align: middle;\n",
       "    }\n",
       "\n",
       "    .dataframe tbody tr th {\n",
       "        vertical-align: top;\n",
       "    }\n",
       "\n",
       "    .dataframe thead th {\n",
       "        text-align: right;\n",
       "    }\n",
       "</style>\n",
       "<table border=\"1\" class=\"dataframe\">\n",
       "  <thead>\n",
       "    <tr style=\"text-align: right;\">\n",
       "      <th></th>\n",
       "      <th>Tenor</th>\n",
       "      <th>CUSIP</th>\n",
       "      <th>Description</th>\n",
       "      <th>Price</th>\n",
       "      <th>Yield</th>\n",
       "      <th>Source</th>\n",
       "      <th>Update</th>\n",
       "      <th>Expiry Date</th>\n",
       "      <th>Months to Expiry</th>\n",
       "      <th>Coupon</th>\n",
       "    </tr>\n",
       "  </thead>\n",
       "  <tbody>\n",
       "    <tr>\n",
       "      <th>0</th>\n",
       "      <td>1M</td>\n",
       "      <td>AT256668@BGN  Corp</td>\n",
       "      <td>UKTB 0 12/31/18 Corp</td>\n",
       "      <td>99.9480</td>\n",
       "      <td>0.7033</td>\n",
       "      <td>BGN</td>\n",
       "      <td>2018/12/3</td>\n",
       "      <td>2018/12/31</td>\n",
       "      <td>0.933333</td>\n",
       "      <td>0.00</td>\n",
       "    </tr>\n",
       "    <tr>\n",
       "      <th>1</th>\n",
       "      <td>3M</td>\n",
       "      <td>AU235812@BVAL Corp</td>\n",
       "      <td>UKTB 0 03/04/19 Corp</td>\n",
       "      <td>99.8372</td>\n",
       "      <td>0.6612</td>\n",
       "      <td>BVAL</td>\n",
       "      <td>2018/12/3</td>\n",
       "      <td>2019/3/4</td>\n",
       "      <td>3.033333</td>\n",
       "      <td>0.00</td>\n",
       "    </tr>\n",
       "    <tr>\n",
       "      <th>2</th>\n",
       "      <td>1Y</td>\n",
       "      <td>EJ933497@BGN  Corp</td>\n",
       "      <td>UKT 1 ¾ 07/22/19  Corp</td>\n",
       "      <td>100.6390</td>\n",
       "      <td>0.7361</td>\n",
       "      <td>BGN</td>\n",
       "      <td>2018/12/3</td>\n",
       "      <td>2019/7/22</td>\n",
       "      <td>7.700000</td>\n",
       "      <td>1.75</td>\n",
       "    </tr>\n",
       "    <tr>\n",
       "      <th>3</th>\n",
       "      <td>2Y</td>\n",
       "      <td>EK459367@BGN  Corp</td>\n",
       "      <td>UKT 2 07/22/20 Corp</td>\n",
       "      <td>102.0735</td>\n",
       "      <td>0.7204</td>\n",
       "      <td>BGN</td>\n",
       "      <td>2018/12/3</td>\n",
       "      <td>2020/7/22</td>\n",
       "      <td>19.900000</td>\n",
       "      <td>2.00</td>\n",
       "    </tr>\n",
       "    <tr>\n",
       "      <th>4</th>\n",
       "      <td>3Y</td>\n",
       "      <td>UV650560@BGN  Corp</td>\n",
       "      <td>UKT 1 ½ 01/22/21  Corp</td>\n",
       "      <td>101.6365</td>\n",
       "      <td>0.7254</td>\n",
       "      <td>BGN</td>\n",
       "      <td>2018/12/3</td>\n",
       "      <td>2021/1/22</td>\n",
       "      <td>26.033333</td>\n",
       "      <td>1.50</td>\n",
       "    </tr>\n",
       "  </tbody>\n",
       "</table>\n",
       "</div>"
      ],
      "text/plain": [
       "  Tenor               CUSIP             Description     Price   Yield Source  \\\n",
       "0    1M  AT256668@BGN  Corp    UKTB 0 12/31/18 Corp   99.9480  0.7033   BGN    \n",
       "1    3M  AU235812@BVAL Corp    UKTB 0 03/04/19 Corp   99.8372  0.6612   BVAL   \n",
       "2    1Y  EJ933497@BGN  Corp  UKT 1 ¾ 07/22/19  Corp  100.6390  0.7361   BGN    \n",
       "3    2Y  EK459367@BGN  Corp     UKT 2 07/22/20 Corp  102.0735  0.7204   BGN    \n",
       "4    3Y  UV650560@BGN  Corp  UKT 1 ½ 01/22/21  Corp  101.6365  0.7254   BGN    \n",
       "\n",
       "      Update Expiry Date  Months to Expiry  Coupon  \n",
       "0  2018/12/3  2018/12/31          0.933333    0.00  \n",
       "1  2018/12/3    2019/3/4          3.033333    0.00  \n",
       "2  2018/12/3   2019/7/22          7.700000    1.75  \n",
       "3  2018/12/3   2020/7/22         19.900000    2.00  \n",
       "4  2018/12/3   2021/1/22         26.033333    1.50  "
      ]
     },
     "execution_count": 3,
     "metadata": {},
     "output_type": "execute_result"
    }
   ],
   "source": [
    "data.head()"
   ]
  },
  {
   "cell_type": "code",
   "execution_count": 4,
   "metadata": {},
   "outputs": [],
   "source": [
    "act_price = data[\"Price\"]\n",
    "\n",
    "coupon = data[\"Coupon\"]"
   ]
  },
  {
   "cell_type": "code",
   "execution_count": 5,
   "metadata": {},
   "outputs": [
    {
     "name": "stdout",
     "output_type": "stream",
     "text": [
      "0     0.000\n",
      "1     0.000\n",
      "2     1.750\n",
      "3     2.000\n",
      "4     1.500\n",
      "5     0.500\n",
      "6     0.750\n",
      "7     2.750\n",
      "8     2.000\n",
      "9     1.500\n",
      "10    1.250\n",
      "11    1.625\n",
      "12    4.750\n",
      "13    4.250\n",
      "14    1.750\n",
      "15    4.500\n",
      "16    1.500\n",
      "17    1.750\n",
      "18    3.500\n",
      "Name: Coupon, dtype: float64\n"
     ]
    }
   ],
   "source": [
    "print(coupon)"
   ]
  },
  {
   "cell_type": "markdown",
   "metadata": {},
   "source": [
    "I'm confused with the input unit choosing, year or month. I reference Diebold and Li's paper, and test month."
   ]
  },
  {
   "cell_type": "code",
   "execution_count": 6,
   "metadata": {},
   "outputs": [
    {
     "name": "stdout",
     "output_type": "stream",
     "text": [
      "0       0.933333\n",
      "1       3.033333\n",
      "2       7.700000\n",
      "3      19.900000\n",
      "4      26.033333\n",
      "5      44.233333\n",
      "6      56.400000\n",
      "7      70.166667\n",
      "8      82.333333\n",
      "9      92.933333\n",
      "10    105.100000\n",
      "11    120.366667\n",
      "12    146.233333\n",
      "13    164.500000\n",
      "14    228.433333\n",
      "15    292.333333\n",
      "16    348.600000\n",
      "17    470.366667\n",
      "18    604.300000\n",
      "Name: Months to Expiry, dtype: float64\n"
     ]
    }
   ],
   "source": [
    "# Convert time from month to year, b/c we usually discuss annualized rate\n",
    "year_to_mat = data[\"Months to Expiry\"]/12\n",
    "month_to_mat = data[\"Months to Expiry\"]\n",
    "print(month_to_mat)"
   ]
  },
  {
   "cell_type": "markdown",
   "metadata": {},
   "source": [
    "??? The yield we download from bloomberg is annualized???\n",
    "??? The bond price should be qutoed price. So we should build one more Accured Interest function."
   ]
  },
  {
   "cell_type": "code",
   "execution_count": 7,
   "metadata": {},
   "outputs": [
    {
     "name": "stdout",
     "output_type": "stream",
     "text": [
      "0     0.7033\n",
      "1     0.6612\n",
      "2     0.7361\n",
      "3     0.7204\n",
      "4     0.7254\n",
      "5     0.7901\n",
      "6     0.8916\n",
      "7     0.9584\n",
      "8     1.0132\n",
      "9     1.0933\n",
      "10    1.2032\n",
      "11    1.3111\n",
      "12    1.4289\n",
      "13    1.5624\n",
      "14    1.8769\n",
      "15    1.9594\n",
      "16    2.0078\n",
      "17    1.9295\n",
      "18    1.9095\n",
      "Name: Yield, dtype: float64\n"
     ]
    }
   ],
   "source": [
    "# Convert yield in % \n",
    "yld = data[\"Yield\"]\n",
    "print(yld)"
   ]
  },
  {
   "cell_type": "markdown",
   "metadata": {},
   "source": [
    "## Part 2: Nelson-Siegel Model"
   ]
  },
  {
   "cell_type": "markdown",
   "metadata": {},
   "source": [
    "### Starting Point: simple regression to find B1, B2 and B3"
   ]
  },
  {
   "cell_type": "code",
   "execution_count": 8,
   "metadata": {},
   "outputs": [],
   "source": [
    "# Simple regression to estimate beta1,2,3 as start point\n",
    "lamda = 0.0605\n",
    "\n",
    "# Prepare x 0,1,2 to do regression\n",
    "# x_0 = np.ones(len(year_to_mat))\n",
    "\n",
    "def X_1(x,lamda):\n",
    "    x_1 = []\n",
    "    for i in x:\n",
    "        first = (1-math.exp(-lamda*i))/(lamda*i)\n",
    "        x_1.append(first)\n",
    "    return x_1\n",
    "\n",
    "def X_2(x,lamda):\n",
    "    x_2 = []\n",
    "    for i in x:\n",
    "        second = (1-math.exp(-lamda*i))/(lamda*i) - math.exp(-lamda*i)\n",
    "        x_2.append(second)\n",
    "    return x_2\n",
    "\n",
    "x_1 = X_1(month_to_mat,lamda)\n",
    "x_2 = X_2(month_to_mat,lamda)\n",
    "\n",
    "\n",
    "x_reg_sp = pd.DataFrame({'x1':x_1, 'x2':x_2})"
   ]
  },
  {
   "cell_type": "code",
   "execution_count": 9,
   "metadata": {},
   "outputs": [
    {
     "name": "stdout",
     "output_type": "stream",
     "text": [
      "[0.04538018100021124, 0.043202198241305556, 0.04704310549384605, 0.04625075923502986, 0.046503815616885325, 0.04971912006587442, 0.054554693108910035, 0.05760894838726549, 0.06004404377652528, 0.06349623346370992, 0.06804075944348065, 0.07230474589767821, 0.07675641929236332, 0.0815682017549817, 0.09205303587528202, 0.09462905730470728, 0.09610984773920217, 0.0937031388956322, 0.09307894794412719]\n"
     ]
    }
   ],
   "source": [
    "def yld_convert(n, yld):\n",
    "    trans_yld = []\n",
    "    for i in yld:\n",
    "        new_y = pow((1 + i),n) - 1\n",
    "        trans_yld.append(new_y)\n",
    "    return trans_yld\n",
    "\n",
    "# Convert annualized yield to monthly yield\n",
    "y_reg_sp = yld_convert(1/12,yld)\n",
    "print(y_reg_sp)"
   ]
  },
  {
   "cell_type": "code",
   "execution_count": 10,
   "metadata": {},
   "outputs": [
    {
     "name": "stdout",
     "output_type": "stream",
     "text": [
      "[-0.046069   -0.11301979]\n",
      "0.09758809566355213\n"
     ]
    }
   ],
   "source": [
    "from sklearn.linear_model import LinearRegression\n",
    "model = LinearRegression(fit_intercept = True)\n",
    " \n",
    "model.fit(x_reg_sp,y_reg_sp)\n",
    "\n",
    "print(model.coef_)\n",
    "print(model.intercept_)"
   ]
  },
  {
   "cell_type": "code",
   "execution_count": 11,
   "metadata": {},
   "outputs": [],
   "source": [
    "# Payment schedule in years\n",
    "def pay_sch(t):\n",
    "    schedule = [t]\n",
    "    while ((t-6) >= 0):\n",
    "        t = t-6\n",
    "        schedule.insert(0,t)\n",
    "    return schedule\n"
   ]
  },
  {
   "cell_type": "code",
   "execution_count": 12,
   "metadata": {},
   "outputs": [],
   "source": [
    "def NS(t, beta):\n",
    "    y = beta[0] + beta[1] * (1-math.exp(-lamda*t))/(lamda*t) + beta[2] * ((1-math.exp(-lamda*t))/(lamda*t) - math.exp(-lamda*t))\n",
    "    return y"
   ]
  },
  {
   "cell_type": "code",
   "execution_count": 13,
   "metadata": {},
   "outputs": [],
   "source": [
    "# Pring all bonds for one day\n",
    "def pricing_ns(month_to_mat, coupon, beta):\n",
    "    pv_lst = []\n",
    "    for i in range(0,len(coupon)):\n",
    "        schedule = pay_sch(month_to_mat[i])\n",
    "        pv_principle = 100 / pow(1 + NS(month_to_mat[i], beta)/100, month_to_mat[i])\n",
    "        pv_coupon = 0\n",
    "        for t in schedule:\n",
    "            pv_coupon = pv_coupon + coupon[i] / pow(1+NS(t, beta)/100, t)\n",
    "        pv = pv_principle + pv_coupon\n",
    "        pv_lst.append(pv)\n",
    "    return pv_lst\n",
    "        "
   ]
  },
  {
   "cell_type": "code",
   "execution_count": null,
   "metadata": {},
   "outputs": [],
   "source": [
    "# Accured Interest"
   ]
  },
  {
   "cell_type": "code",
   "execution_count": 14,
   "metadata": {},
   "outputs": [],
   "source": [
    "def res(beta, month_to_mat, coupon):\n",
    "    est_price = pricing_ns(month_to_mat, coupon, beta)\n",
    "    res = act_price - est_price\n",
    "    return res"
   ]
  },
  {
   "cell_type": "code",
   "execution_count": 15,
   "metadata": {},
   "outputs": [],
   "source": [
    "import scipy.optimize as optimize\n",
    "#import collections\n",
    "\n",
    "#Param=collections.namedtuple('Param','b0 b1 b2')\n",
    "#Beta_guess=Param(b0 = 5, b1 = -1.12135598, b2 = -3.01085312)\n",
    "Beta_guess = np.array([0.09758809566355213,  -0.046069 ,  -0.11301979])\n",
    "res_1 = optimize.least_squares(res, Beta_guess, args=(month_to_mat, coupon))"
   ]
  },
  {
   "cell_type": "code",
   "execution_count": 16,
   "metadata": {},
   "outputs": [
    {
     "name": "stdout",
     "output_type": "stream",
     "text": [
      "[ 0.40460247 -0.03767913 -0.37392008]\n",
      "0.040788656108361465\n"
     ]
    }
   ],
   "source": [
    "print(res_1.x)\n",
    "\n",
    "print(res_1.optimality)"
   ]
  },
  {
   "cell_type": "code",
   "execution_count": 17,
   "metadata": {},
   "outputs": [
    {
     "name": "stdout",
     "output_type": "stream",
     "text": [
      "0      0.280795\n",
      "1      0.860876\n",
      "2     -0.452401\n",
      "3     -0.314792\n",
      "4      1.321516\n",
      "5      7.125224\n",
      "6      8.015933\n",
      "7      0.148289\n",
      "8      5.242884\n",
      "9      8.759501\n",
      "10    11.347511\n",
      "11     8.776837\n",
      "12   -16.714860\n",
      "13   -13.640536\n",
      "14     8.362216\n",
      "15   -20.321178\n",
      "16    12.464996\n",
      "17    13.651077\n",
      "18     2.195941\n",
      "Name: Price, dtype: float64\n"
     ]
    }
   ],
   "source": [
    "res_day1 = res(res_1.x, month_to_mat, coupon)\n",
    "print(res_day1)"
   ]
  }
 ],
 "metadata": {
  "kernelspec": {
   "display_name": "Python 2",
   "language": "python",
   "name": "python2"
  },
  "language_info": {
   "codemirror_mode": {
    "name": "ipython",
    "version": 2
   },
   "file_extension": ".py",
   "mimetype": "text/x-python",
   "name": "python",
   "nbconvert_exporter": "python",
   "pygments_lexer": "ipython2",
   "version": "2.7.15"
  }
 },
 "nbformat": 4,
 "nbformat_minor": 2
}
